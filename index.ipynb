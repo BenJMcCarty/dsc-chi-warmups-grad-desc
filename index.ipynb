{
 "cells": [
  {
   "cell_type": "markdown",
   "metadata": {},
   "source": [
    "# Gradient Descent Warmup\n",
    "\n",
    "The gradients will continue until morale improves"
   ]
  },
  {
   "cell_type": "markdown",
   "metadata": {},
   "source": [
    "## Theory questions"
   ]
  },
  {
   "cell_type": "markdown",
   "metadata": {},
   "source": [
    "#### 1) What is a loss function?\n",
    "\n",
    "#### 2) What is the loss function for SSE OLS regression?"
   ]
  },
  {
   "cell_type": "markdown",
   "metadata": {},
   "source": [
    "1) A loss function is a function representing the error between the actual values of a target variable\n",
    "and the predictions made by a model\n",
    "\n",
    "A loss function can be used by a machine learning model to minimize error between predicted and target values\n",
    "\n",
    "Selection of a loss function often depends on both the specific model being used and the situation in which\n",
    "one is doing analysis\n",
    "\n",
    "2) Loss function for OLS using SSE is mean square error, or loss = sum((y-f(x))**2)/n\n",
    "\n",
    "In practice, often calculated as sum((y-f(x))**2)/(2n), so that the exponent is cancelled out when taking the derivative\n",
    "and the calculations are a little easier."
   ]
  },
  {
   "cell_type": "markdown",
   "metadata": {},
   "source": [
    "## Calculating a loss function for a simple regression model"
   ]
  },
  {
   "cell_type": "markdown",
   "metadata": {},
   "source": [
    "For this example, we'll import a series of 300 points from the data folder as an `X` feature, and another series of 300 points as a `y` target"
   ]
  },
  {
   "cell_type": "code",
   "execution_count": 1,
   "metadata": {
    "ExecuteTime": {
     "end_time": "2021-07-21T17:58:44.791599Z",
     "start_time": "2021-07-21T17:58:43.547231Z"
    }
   },
   "outputs": [],
   "source": [
    "#run this cell as-is\n",
    "\n",
    "#used for testing\n",
    "from test_scripts.test_class import Test\n",
    "test = Test()\n",
    "\n",
    "#data manip\n",
    "import numpy as np\n",
    "\n",
    "#data import\n",
    "X = test.load_ind('X')\n",
    "y = test.load_ind('y')"
   ]
  },
  {
   "cell_type": "code",
   "execution_count": null,
   "metadata": {},
   "outputs": [],
   "source": []
  },
  {
   "cell_type": "markdown",
   "metadata": {},
   "source": [
    "### Calculate the change in the loss function for a simple regression model, $y = \\beta  x + b$, as we step down the gradient once from an initial guess of 3 for $\\beta$ and 1 for $b$"
   ]
  },
  {
   "cell_type": "markdown",
   "metadata": {},
   "source": [
    "#### First, set up\n",
    "- define n as 300\n",
    "- define `beta` and `n` as initial guesses of 3 and 1, respectively\n",
    "- assign the loss function to `loss` using `y`, `X`, `n`, `beta` and `b`\n",
    "  - note: go ahead and multiply the denominator by 2 to cancel the partial derivative exponent step coming up"
   ]
  },
  {
   "cell_type": "code",
   "execution_count": 7,
   "metadata": {
    "ExecuteTime": {
     "end_time": "2021-07-21T18:34:32.069175Z",
     "start_time": "2021-07-21T18:34:32.057175Z"
    }
   },
   "outputs": [],
   "source": [
    "n = 300\n",
    "b = 1\n",
    "beta = 3\n",
    "\n",
    "# sum((y-beta*X-b)**2)/(2*n)\n",
    "\n",
    "def loss(beta, b, n):\n",
    "    return sum((y-beta*X-b)**2)/(2*n)"
   ]
  },
  {
   "cell_type": "markdown",
   "metadata": {},
   "source": [
    "### Now, calculate"
   ]
  },
  {
   "cell_type": "markdown",
   "metadata": {},
   "source": [
    "- determine the partial derivatives for `beta` and `b`"
   ]
  },
  {
   "cell_type": "code",
   "execution_count": 11,
   "metadata": {
    "ExecuteTime": {
     "end_time": "2021-07-21T18:34:50.223744Z",
     "start_time": "2021-07-21T18:34:50.211745Z"
    }
   },
   "outputs": [],
   "source": [
    "# beta_deriv = #your code here\n",
    "# b_deriv = #your code here\n",
    "\n",
    "\n",
    "beta_deriv = sum((y-beta*X-b)*-X)/300\n",
    "b_deriv =sum((y-beta*X-b)*-1)/300"
   ]
  },
  {
   "cell_type": "code",
   "execution_count": 14,
   "metadata": {
    "ExecuteTime": {
     "end_time": "2021-07-21T18:47:35.055491Z",
     "start_time": "2021-07-21T18:47:35.045480Z"
    }
   },
   "outputs": [
    {
     "data": {
      "text/plain": [
       "-41.44519343763108"
      ]
     },
     "execution_count": 14,
     "metadata": {},
     "output_type": "execute_result"
    }
   ],
   "source": [
    "beta_deriv"
   ]
  },
  {
   "cell_type": "code",
   "execution_count": 15,
   "metadata": {
    "ExecuteTime": {
     "end_time": "2021-07-21T18:48:05.968189Z",
     "start_time": "2021-07-21T18:48:05.959565Z"
    }
   },
   "outputs": [
    {
     "data": {
      "text/plain": [
       "5.399401084176953"
      ]
     },
     "execution_count": 15,
     "metadata": {},
     "output_type": "execute_result"
    }
   ],
   "source": [
    "b_deriv"
   ]
  },
  {
   "cell_type": "markdown",
   "metadata": {},
   "source": [
    "- re-define `beta` and `b` by \"stepping down the gradient\" - ie, subtract their respective partial derivatives from themselves"
   ]
  },
  {
   "cell_type": "code",
   "execution_count": 12,
   "metadata": {
    "ExecuteTime": {
     "end_time": "2021-07-21T18:34:50.589367Z",
     "start_time": "2021-07-21T18:34:50.586373Z"
    }
   },
   "outputs": [],
   "source": [
    "beta = beta - beta_deriv\n",
    "b = b - b_deriv\n",
    "\n",
    "###\n",
    "\n",
    "# beta = beta - beta_deriv\n",
    "# b = b - b_deriv"
   ]
  },
  {
   "cell_type": "code",
   "execution_count": 16,
   "metadata": {
    "ExecuteTime": {
     "end_time": "2021-07-21T18:51:45.051276Z",
     "start_time": "2021-07-21T18:51:45.043279Z"
    }
   },
   "outputs": [
    {
     "data": {
      "text/plain": [
       "(44.44519343763108, -4.399401084176953)"
      ]
     },
     "execution_count": 16,
     "metadata": {},
     "output_type": "execute_result"
    }
   ],
   "source": [
    "beta,b"
   ]
  },
  {
   "cell_type": "code",
   "execution_count": 13,
   "metadata": {
    "ExecuteTime": {
     "end_time": "2021-07-21T18:34:50.793381Z",
     "start_time": "2021-07-21T18:34:50.776394Z"
    }
   },
   "outputs": [
    {
     "name": "stdout",
     "output_type": "stream",
     "text": [
      "test for beta:\n"
     ]
    },
    {
     "data": {
      "text/markdown": [
       "✅ **Hey, you did it.  Good job.**"
      ],
      "text/plain": [
       "<IPython.core.display.Markdown object>"
      ]
     },
     "metadata": {},
     "output_type": "display_data"
    },
    {
     "name": "stdout",
     "output_type": "stream",
     "text": [
      "\n",
      "test for b:\n"
     ]
    },
    {
     "data": {
      "text/markdown": [
       "✅ **Hey, you did it.  Good job.**"
      ],
      "text/plain": [
       "<IPython.core.display.Markdown object>"
      ]
     },
     "metadata": {},
     "output_type": "display_data"
    }
   ],
   "source": [
    "#run this cell to test your work!\n",
    "\n",
    "print('test for beta:')\n",
    "test.run_test(beta, \"beta\")\n",
    "print()\n",
    "print('test for b:')\n",
    "test.run_test(b, \"b\")"
   ]
  },
  {
   "cell_type": "markdown",
   "metadata": {},
   "source": [
    "- does `y = original_beta * X + original_b` have a smaller loss function value than `y = updated_beta * X + new_b`?"
   ]
  },
  {
   "cell_type": "code",
   "execution_count": 17,
   "metadata": {
    "ExecuteTime": {
     "end_time": "2021-07-21T18:58:25.141816Z",
     "start_time": "2021-07-21T18:58:25.126800Z"
    }
   },
   "outputs": [
    {
     "name": "stdout",
     "output_type": "stream",
     "text": [
      "loss from first guess: 942.4909304580721, loss from updated guess: 15.147998163619848\n"
     ]
    }
   ],
   "source": [
    "# loss_original = #your code here\n",
    "\n",
    "# loss_current = #your code here\n",
    "\n",
    "####\n",
    "\n",
    "loss_original = loss(3,1,300)\n",
    "\n",
    "loss_new = loss(beta, b, 300)\n",
    "\n",
    "print(f'loss from first guess: {loss_original}, loss from updated guess: {loss_new}')\n"
   ]
  },
  {
   "cell_type": "markdown",
   "metadata": {},
   "source": [
    "#### Now, do this 10 more times!\n",
    "\n",
    "- Put the machinery to calculate a new `beta` and `b` you've created inside of a function\n",
    "  - The function should take as inputs `beta`, `b`, `X`, and `y`\n",
    "  - (`X` and `y` should have default values)\n",
    "  - calculate the partial derivative of the loss function for `beta`\n",
    "  - calculate the partial derivative of the loss function for `b`\n",
    "  - subtract their respective partial derivatives from `beta` and `b`\n",
    "  - return updated `beta` and `b`\n",
    "\n",
    "\n",
    "- Put the function inside of a loop which runs 10 times\n",
    "\n",
    "- Calculate `beta` and `b`, starting with `beta`=3 and `b`=1, after 10 \"steps down the gradient\"\n",
    "\n",
    "- What does it look like the final `y = mx + b` equation should be?"
   ]
  },
  {
   "cell_type": "code",
   "execution_count": null,
   "metadata": {
    "ExecuteTime": {
     "end_time": "2021-07-21T17:58:44.815574Z",
     "start_time": "2021-07-21T17:58:43.680Z"
    }
   },
   "outputs": [],
   "source": [
    "#Your work here"
   ]
  },
  {
   "cell_type": "code",
   "execution_count": null,
   "metadata": {},
   "outputs": [],
   "source": [
    "def calculate_descent(beta, b, X=X, y=y):\n",
    "    beta_deriv = sum((y-beta*X-b)*-X)/300\n",
    "    b_deriv = sum((y-beta*X-b)*-1)/300\n",
    "    \n",
    "    new_beta = beta - beta_deriv\n",
    "    new_b = b - b_deriv\n",
    "    \n",
    "    return {'beta':new_beta, 'b': new_b}\n",
    "\n",
    "beta = 3\n",
    "b = 1\n",
    "\n",
    "for epoch in range(0,10):\n",
    "    results = calculate_descent(beta, b)\n",
    "    beta = results['beta']\n",
    "    b = results['b']\n",
    "\n",
    "print(f'beta after 10 epochs: {beta}')\n",
    "print(f'b after 10 epochs: {b}')\n",
    "\n",
    "print(f'y = {beta} * X + {b}, baby')\n",
    "\n",
    "#used for testing\n",
    "# test.save(beta, 'beta_10')\n",
    "# test.save(b, 'b_10')\n"
   ]
  },
  {
   "cell_type": "code",
   "execution_count": null,
   "metadata": {
    "ExecuteTime": {
     "end_time": "2021-07-21T17:58:44.816577Z",
     "start_time": "2021-07-21T17:58:43.682Z"
    }
   },
   "outputs": [],
   "source": [
    "#run this cell to test your work!\n",
    "\n",
    "print('test for beta:')\n",
    "test.run_test(beta, \"beta_10\")\n",
    "print()\n",
    "print('test for b:')\n",
    "test.run_test(b, \"b_10\")"
   ]
  },
  {
   "cell_type": "markdown",
   "metadata": {},
   "source": [
    "# Bonus Round"
   ]
  },
  {
   "cell_type": "markdown",
   "metadata": {},
   "source": [
    "Look at the loss function as we move from epoch to epoch\n",
    "\n",
    "Why do we not need a learning rate in this instance?\n",
    "\n",
    "Why might we need a learning rate in other instances?"
   ]
  },
  {
   "cell_type": "code",
   "execution_count": null,
   "metadata": {
    "ExecuteTime": {
     "end_time": "2021-07-21T17:58:44.817575Z",
     "start_time": "2021-07-21T17:58:43.727Z"
    }
   },
   "outputs": [],
   "source": [
    "#Your work here"
   ]
  }
 ],
 "metadata": {
  "kernelspec": {
   "display_name": "Python 3",
   "language": "python",
   "name": "python3"
  },
  "language_info": {
   "codemirror_mode": {
    "name": "ipython",
    "version": 3
   },
   "file_extension": ".py",
   "mimetype": "text/x-python",
   "name": "python",
   "nbconvert_exporter": "python",
   "pygments_lexer": "ipython3",
   "version": "3.8.5"
  },
  "toc": {
   "base_numbering": 1,
   "nav_menu": {},
   "number_sections": true,
   "sideBar": true,
   "skip_h1_title": false,
   "title_cell": "Table of Contents",
   "title_sidebar": "Contents",
   "toc_cell": false,
   "toc_position": {},
   "toc_section_display": true,
   "toc_window_display": false
  }
 },
 "nbformat": 4,
 "nbformat_minor": 4
}
